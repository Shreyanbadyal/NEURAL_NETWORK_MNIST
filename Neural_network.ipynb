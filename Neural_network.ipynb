{
  "nbformat": 4,
  "nbformat_minor": 0,
  "metadata": {
    "colab": {
      "provenance": [],
      "authorship_tag": "ABX9TyNVkqJtXOibAsEE168xRzaO",
      "include_colab_link": true
    },
    "kernelspec": {
      "name": "python3",
      "display_name": "Python 3"
    },
    "language_info": {
      "name": "python"
    }
  },
  "cells": [
    {
      "cell_type": "markdown",
      "metadata": {
        "id": "view-in-github",
        "colab_type": "text"
      },
      "source": [
        "<a href=\"https://colab.research.google.com/github/Shreyanbadyal/NEURAL_NETWORK_MNIST/blob/main/Neural_network.ipynb\" target=\"_parent\"><img src=\"https://colab.research.google.com/assets/colab-badge.svg\" alt=\"Open In Colab\"/></a>"
      ]
    },
    {
      "cell_type": "code",
      "execution_count": 1,
      "metadata": {
        "colab": {
          "base_uri": "https://localhost:8080/"
        },
        "id": "hLukEFwlL9rF",
        "outputId": "f7c50e79-b370-4fda-ed67-3849ff5fed68"
      },
      "outputs": [
        {
          "output_type": "stream",
          "name": "stdout",
          "text": [
            "hello_world\n"
          ]
        }
      ],
      "source": [
        "print(\"hello_world\");"
      ]
    },
    {
      "cell_type": "code",
      "source": [
        "import numpy as np\n",
        "import math\n",
        "import matplotlib.pyplot as plt\n",
        "%matplotlib inline"
      ],
      "metadata": {
        "id": "5S8NHb0-MI28"
      },
      "execution_count": 7,
      "outputs": []
    },
    {
      "cell_type": "code",
      "source": [
        "def f(x):\n",
        "  return x**2 -5*x+6\n"
      ],
      "metadata": {
        "id": "-0IiD0XPM3JY"
      },
      "execution_count": 9,
      "outputs": []
    },
    {
      "cell_type": "code",
      "source": [
        "class value:\n",
        "  def __init__(self,data,_children = (),_op='',lable = ''):\n",
        "    self.data = data\n",
        "    self.grad = 0.0\n",
        "    self._prev  = set(_children);\n",
        "    self._backward = lambda : None\n",
        "    self._op = _op\n",
        "    self.lable = lable\n",
        "\n",
        "\n",
        "\n",
        "  def __add__(self,other):\n",
        "    other = other if isinstance(other,value) else value(other)\n",
        "    out = value(self.data + other.data,(self,other),'+');\n",
        "    def _backward():\n",
        "      self.grad += 1.0 * out.grad\n",
        "      other.grad += 1.0 * out.grad\n",
        "    out._backward = _backward\n",
        "\n",
        "    return out\n",
        "\n",
        "\n",
        "  def __radd__(self, other):\n",
        "    return self + other\n",
        "\n",
        "  def __mul__(self,other):\n",
        "    other = other if isinstance(other,value) else value(other)\n",
        "    out = value((self.data)*(other.data));\n",
        "    def _backward():\n",
        "      self.grad += other.data * out.grad\n",
        "      other.grad += self.data * out.grad\n",
        "    out._backward = _backward\n",
        "    return out;\n",
        "\n",
        "  def __rmul__(self,other):\n",
        "    return self*other\n",
        "\n",
        "  def tanh(self):\n",
        "    x = self.data\n",
        "    t = (math.exp(2*x)-1)/(math.exp(2*x)+1)\n",
        "    out = value(t,(self, ),'tanh')\n",
        "    def _backward():\n",
        "      self.grad += (1-t**2) * out.grad\n",
        "    out._backward = _backward\n",
        "\n",
        "    return out\n",
        "\n",
        "  def relu(self):\n",
        "        out = value(0 if self.data < 0 else self.data, (self,), 'ReLU')\n",
        "        def _backward():\n",
        "            self.grad += (out.data > 0) * out.grad\n",
        "        out._backward = _backward\n",
        "        return out\n",
        "\n",
        "  def backward(self):\n",
        "    topo = []\n",
        "    visited = set()\n",
        "    def build_topo(v):\n",
        "      if v not in visited:\n",
        "        visited.add(v)\n",
        "        for child in v._prev:\n",
        "          build_topo(child)\n",
        "        topo.append(v)\n",
        "    build_topo(self)\n",
        "    self.grad = 1.0\n",
        "    for node in reversed(topo):\n",
        "      node._backward()\n",
        "\n",
        "  def __repr__(self):\n",
        "    return f\"Value(data = {self.data})\"\n"
      ],
      "metadata": {
        "id": "W-1YpL5ObrUz"
      },
      "execution_count": 45,
      "outputs": []
    },
    {
      "cell_type": "code",
      "source": [
        "a = value(2)\n",
        "b = value(3)\n",
        "2*b"
      ],
      "metadata": {
        "colab": {
          "base_uri": "https://localhost:8080/"
        },
        "id": "GWLg4Q6A72q7",
        "outputId": "14e33422-06b0-4b2f-d7b7-ffa443a071ed"
      },
      "execution_count": 42,
      "outputs": [
        {
          "output_type": "execute_result",
          "data": {
            "text/plain": [
              "Value(data = 6)"
            ]
          },
          "metadata": {},
          "execution_count": 42
        }
      ]
    },
    {
      "cell_type": "code",
      "source": [
        "import random\n",
        "class neuron:\n",
        "  def __init__(self,nin):\n",
        "    self.w = [value(random.uniform(-1,1)) for _ in range(nin)]\n",
        "    self.b = value(random.uniform(-1,1))\n",
        "  def __call__(self,x):\n",
        "    act = sum(xi*wi for xi,wi in zip(self.w,x)) + self.b\n",
        "    out = act.tanh()\n",
        "    return out\n",
        "x = [2.0,3.0,9.0]\n",
        "n = neuron(3)\n",
        "n(x)"
      ],
      "metadata": {
        "colab": {
          "base_uri": "https://localhost:8080/"
        },
        "id": "uLPUqI4nmN9l",
        "outputId": "0a12518b-ca8c-4178-8cc2-938d87f702af"
      },
      "execution_count": 46,
      "outputs": [
        {
          "output_type": "execute_result",
          "data": {
            "text/plain": [
              "Value(data = -0.9999111675279804)"
            ]
          },
          "metadata": {},
          "execution_count": 46
        }
      ]
    }
  ]
}